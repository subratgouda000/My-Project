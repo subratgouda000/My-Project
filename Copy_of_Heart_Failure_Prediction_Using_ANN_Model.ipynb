{
 "cells": [
  {
   "cell_type": "code",
   "execution_count": null,
   "metadata": {
    "id": "Q3Y0z6ILpxeJ"
   },
   "outputs": [],
   "source": [
    "import pandas as pd\n",
    "import numpy as np\n",
    "import seaborn as sns\n",
    "import matplotlib.pyplot as plt"
   ]
  },
  {
   "cell_type": "code",
   "execution_count": null,
   "metadata": {
    "colab": {
     "base_uri": "https://localhost:8080/",
     "height": 380
    },
    "id": "ipzgPi5yp6KB",
    "outputId": "b0604a56-ff99-463b-c43f-2e382cac780a"
   },
   "outputs": [],
   "source": [
    "data = pd.read_csv('/content/heart.csv')\n",
    "print(\"🔹 Dataset Loaded Successfully!\")\n",
    "data.head(10)"
   ]
  },
  {
   "cell_type": "code",
   "execution_count": null,
   "metadata": {
    "colab": {
     "base_uri": "https://localhost:8080/"
    },
    "id": "WW6aEwG0qIDK",
    "outputId": "cc826fbc-94de-472e-ac2a-4a642a535984"
   },
   "outputs": [],
   "source": [
    "data.info()"
   ]
  },
  {
   "cell_type": "code",
   "execution_count": null,
   "metadata": {
    "colab": {
     "base_uri": "https://localhost:8080/",
     "height": 269
    },
    "id": "lBbCKCR-qL7L",
    "outputId": "7d321263-4e55-48d5-b465-8db19ec60be7"
   },
   "outputs": [],
   "source": [
    "data.describe().transpose()"
   ]
  },
  {
   "cell_type": "code",
   "execution_count": null,
   "metadata": {
    "colab": {
     "base_uri": "https://localhost:8080/"
    },
    "id": "gZcoNHTNqOuY",
    "outputId": "8218c8fc-26f2-441e-f9aa-ee57ffb9a21d"
   },
   "outputs": [],
   "source": [
    "data.columns"
   ]
  },
  {
   "cell_type": "code",
   "execution_count": null,
   "metadata": {
    "colab": {
     "base_uri": "https://localhost:8080/"
    },
    "id": "GxfRrRLLq4li",
    "outputId": "a8e9d6f6-76e3-4bf8-c493-00e2bc73fddf"
   },
   "outputs": [],
   "source": [
    "num_cols = []\n",
    "for column in data.columns:\n",
    "  if ((data[column].dtype != 'object') & (data[column].nunique() > 2)):\n",
    "    num_cols.append(column)\n",
    "print(num_cols)"
   ]
  },
  {
   "cell_type": "code",
   "execution_count": null,
   "metadata": {
    "colab": {
     "base_uri": "https://localhost:8080/",
     "height": 1000
    },
    "id": "Kat8Y7jAq9uy",
    "outputId": "4efcc855-f232-463b-de39-21c892ba8f5d"
   },
   "outputs": [],
   "source": [
    "for column in num_cols:\n",
    "  sns.boxplot(data=data[column], orient='h')\n",
    "  plt.xlabel(column)\n",
    "  plt.show()"
   ]
  },
  {
   "cell_type": "code",
   "execution_count": null,
   "metadata": {
    "id": "rVmPM1J7rDgv"
   },
   "outputs": [],
   "source": [
    "for column in num_cols:\n",
    "  q3, q1 = np.percentile(data[column], [75, 25])\n",
    "  IQR = q3 - q1\n",
    "  max_boxPlot = q3 + (1.5 * IQR)\n",
    "  min_boxPlot = q1 - (1.5 * IQR)\n",
    "  data = data[(data[column] > min_boxPlot) & (data[column] < max_boxPlot)]"
   ]
  },
  {
   "cell_type": "code",
   "execution_count": null,
   "metadata": {
    "colab": {
     "base_uri": "https://localhost:8080/"
    },
    "id": "wt0yHdFqrIA5",
    "outputId": "0ee898c6-ad45-4128-9d06-1cd8404473b8"
   },
   "outputs": [],
   "source": [
    "data.shape"
   ]
  },
  {
   "cell_type": "code",
   "execution_count": null,
   "metadata": {
    "colab": {
     "base_uri": "https://localhost:8080/",
     "height": 1000
    },
    "id": "QlWylgbGrNCu",
    "outputId": "c6f3c722-bc2f-4465-fda9-8a7275cf60c6"
   },
   "outputs": [],
   "source": [
    "for column in num_cols:\n",
    "  sns.boxplot(data=data[column], orient='h')\n",
    "  plt.xlabel(column)\n",
    "  plt.show()"
   ]
  },
  {
   "cell_type": "code",
   "execution_count": null,
   "metadata": {
    "colab": {
     "base_uri": "https://localhost:8080/"
    },
    "id": "Kj7DWeK0rSQO",
    "outputId": "23f95b18-53ee-41ef-c56e-4ff7132bdc10"
   },
   "outputs": [],
   "source": [
    "data.info()"
   ]
  },
  {
   "cell_type": "code",
   "execution_count": null,
   "metadata": {
    "colab": {
     "base_uri": "https://localhost:8080/",
     "height": 460
    },
    "id": "oZ4lFSxorU8n",
    "outputId": "3c6f8ec4-19dc-498f-e48c-d56dd2bd0b7e"
   },
   "outputs": [],
   "source": [
    "(data.isnull().sum())"
   ]
  },
  {
   "cell_type": "code",
   "execution_count": null,
   "metadata": {
    "colab": {
     "base_uri": "https://localhost:8080/"
    },
    "id": "A_yCc4p4rYEJ",
    "outputId": "a9d45e21-60d0-428f-8ca4-3964f4003598"
   },
   "outputs": [],
   "source": [
    "cat_cols = data.select_dtypes(include='object').columns\n",
    "cat_cols"
   ]
  },
  {
   "cell_type": "code",
   "execution_count": null,
   "metadata": {
    "colab": {
     "base_uri": "https://localhost:8080/",
     "height": 1000
    },
    "id": "UTh57n7nrbBo",
    "outputId": "de26873d-124b-463c-f43e-6cd6c187f95a"
   },
   "outputs": [],
   "source": [
    "for column in cat_cols:\n",
    "  sns.countplot(data=data, x=column, hue=\"HeartDisease\")\n",
    "  plt.show()"
   ]
  },
  {
   "cell_type": "code",
   "execution_count": null,
   "metadata": {
    "colab": {
     "base_uri": "https://localhost:8080/",
     "height": 454
    },
    "id": "kmPC1InprfnH",
    "outputId": "07200ac0-be47-464a-a0d4-8ea1b45e69f3"
   },
   "outputs": [],
   "source": [
    "sns.countplot(data=data, x=\"FastingBS\", hue=\"HeartDisease\")\n",
    "plt.show()"
   ]
  },
  {
   "cell_type": "code",
   "execution_count": null,
   "metadata": {
    "colab": {
     "base_uri": "https://localhost:8080/",
     "height": 178
    },
    "id": "Bphl1zSwritX",
    "outputId": "2f5692a8-750c-4978-c8e6-379306b48151"
   },
   "outputs": [],
   "source": [
    "data['HeartDisease'].value_counts()"
   ]
  },
  {
   "cell_type": "code",
   "execution_count": null,
   "metadata": {
    "colab": {
     "base_uri": "https://localhost:8080/"
    },
    "id": "78bJUHXnrmAa",
    "outputId": "e9f7488d-8cfe-4ba4-91af-d6d3aa50b405"
   },
   "outputs": [],
   "source": [
    "encoded_data = pd.get_dummies(data, drop_first=True)\n",
    "# Convert boolean columns to integers (0/1)\n",
    "encoded_data = encoded_data.astype(int)\n",
    "print(\"\\n🎨 One-Hot Encoding Applied!\")\n",
    "print(encoded_data.head())"
   ]
  },
  {
   "cell_type": "code",
   "execution_count": null,
   "metadata": {
    "colab": {
     "base_uri": "https://localhost:8080/",
     "height": 383
    },
    "id": "bZNL78UDrqMd",
    "outputId": "4c8ee2eb-7746-49da-b5d9-edcf5bd7f5b1"
   },
   "outputs": [],
   "source": [
    "encoded_data.head(10)"
   ]
  },
  {
   "cell_type": "code",
   "execution_count": null,
   "metadata": {
    "colab": {
     "base_uri": "https://localhost:8080/"
    },
    "id": "Evqs-mncruLb",
    "outputId": "3bf63b18-3796-4c20-e4c3-c1214863cc6e"
   },
   "outputs": [],
   "source": [
    "data.shape"
   ]
  },
  {
   "cell_type": "code",
   "execution_count": null,
   "metadata": {
    "id": "UOCpoPZ-r2Ym"
   },
   "outputs": [],
   "source": [
    "# Split into features and target\n",
    "x = encoded_data.drop('HeartDisease', axis=1)\n",
    "y = encoded_data['HeartDisease']\n"
   ]
  },
  {
   "cell_type": "code",
   "execution_count": null,
   "metadata": {
    "id": "i-l60bxjr595"
   },
   "outputs": [],
   "source": [
    "# Train/test split\n",
    "from sklearn.model_selection import train_test_split\n",
    "x_train, x_test, y_train, y_test = train_test_split(x, y, test_size=0.2, random_state=42)"
   ]
  },
  {
   "cell_type": "code",
   "execution_count": null,
   "metadata": {
    "id": "v6Z6I6DZr_G2"
   },
   "outputs": [],
   "source": [
    "# Scale the data\n",
    "from sklearn.preprocessing import MinMaxScaler\n",
    "scaler = MinMaxScaler()\n",
    "x_train_scaled = scaler.fit_transform(x_train)\n",
    "x_test_scaled = scaler.transform(x_test)\n"
   ]
  },
  {
   "cell_type": "code",
   "execution_count": null,
   "metadata": {
    "id": "UiMLByThsGAf"
   },
   "outputs": [],
   "source": [
    "# Convert back to DataFrame for readability (optional)\n",
    "x_train_scaled_df = pd.DataFrame(x_train_scaled, columns=x_train.columns)\n",
    "x_test_scaled_df = pd.DataFrame(x_test_scaled, columns=x_test.columns)"
   ]
  },
  {
   "cell_type": "code",
   "execution_count": null,
   "metadata": {
    "colab": {
     "base_uri": "https://localhost:8080/",
     "height": 1000
    },
    "id": "tfxRj27cs27R",
    "outputId": "826a13e4-31b6-4f66-8376-74069d3a1a26"
   },
   "outputs": [],
   "source": [
    "# ANN Model\n",
    "import tensorflow as tf\n",
    "from tensorflow.keras.models import Sequential\n",
    "from tensorflow.keras.layers import Dense\n",
    "from tensorflow.keras.optimizers import Adam\n",
    "\n",
    "model = Sequential([\n",
    "    Dense(16, input_shape=(x_train.shape[1],), activation='relu'),\n",
    "    Dense(8, activation='relu'),\n",
    "    Dense(1, activation='sigmoid')\n",
    "])\n",
    "model.compile(optimizer=Adam(0.001), loss='binary_crossentropy', metrics=['accuracy'])\n",
    "history = model.fit(x_train_scaled, y_train, validation_split=0.2, epochs=50, batch_size=16)\n",
    "\n",
    "# Evaluate\n",
    "loss, accuracy = model.evaluate(x_test_scaled, y_test)\n",
    "print(f\"Test Loss: {loss:.4f}, Accuracy: {accuracy * 100:.2f}%\")# Plot training history\n",
    "plt.figure(figsize=(12, 5))\n",
    "\n",
    "# Accuracy curve\n",
    "plt.subplot(1, 2, 1)\n",
    "plt.plot(history.history['accuracy'], label='Train Accuracy', marker='o')\n",
    "plt.plot(history.history['val_accuracy'], label='Val Accuracy', marker='o')\n",
    "plt.title('📈 Model Accuracy')\n",
    "plt.xlabel('Epochs')\n",
    "plt.ylabel('Accuracy')\n",
    "plt.legend()\n",
    "plt.grid(True)\n",
    "\n",
    "# Loss curve\n",
    "plt.subplot(1, 2, 2)\n",
    "plt.plot(history.history['loss'], label='Train Loss', marker='o')\n",
    "plt.plot(history.history['val_loss'], label='Val Loss', marker='o')\n",
    "plt.title('📉 Model Loss')\n",
    "plt.xlabel('Epochs')\n",
    "plt.ylabel('Loss')\n",
    "plt.legend()\n",
    "plt.grid(True)\n",
    "\n",
    "plt.tight_layout()\n",
    "plt.show()\n"
   ]
  },
  {
   "cell_type": "code",
   "execution_count": null,
   "metadata": {
    "colab": {
     "base_uri": "https://localhost:8080/",
     "height": 656
    },
    "id": "E_uvJLi9tO8v",
    "outputId": "97d3bcfb-088c-428b-b685-64546d1bf2a5"
   },
   "outputs": [],
   "source": [
    "from sklearn.metrics import confusion_matrix, classification_report\n",
    "\n",
    "# Predict on test set\n",
    "y_pred_prob = model.predict(x_test_scaled)\n",
    "y_pred = (y_pred_prob > 0.5).astype(int)\n",
    "\n",
    "# Confusion Matrix and Classification Report\n",
    "cm = confusion_matrix(y_test, y_pred)\n",
    "cr = classification_report(y_test, y_pred)\n",
    "\n",
    "# Display Confusion Matrix\n",
    "plt.figure(figsize=(5, 4))\n",
    "sns.heatmap(cm, annot=True, fmt='d', cmap='Blues', xticklabels=['No Disease', 'Disease'], yticklabels=['No Disease', 'Disease'])\n",
    "plt.xlabel(\"Predicted\")\n",
    "plt.ylabel(\"Actual\")\n",
    "plt.title(\"🧾 Confusion Matrix\")\n",
    "plt.show()\n",
    "\n",
    "# Print Classification Report\n",
    "print(\"📊 Classification Report:\\n\", cr)\n"
   ]
  },
  {
   "cell_type": "code",
   "execution_count": null,
   "metadata": {
    "colab": {
     "base_uri": "https://localhost:8080/"
    },
    "id": "ErbfI-FytXLp",
    "outputId": "c62f10c6-0634-470c-dc62-982281fbf9bd"
   },
   "outputs": [],
   "source": [
    "# Save model and scaler\n",
    "model.save('/content/heart_failure_prediction_model.h5')\n",
    "import joblib\n",
    "joblib.dump(scaler, '/content/heart_scaler.save')"
   ]
  },
  {
   "cell_type": "code",
   "execution_count": null,
   "metadata": {
    "colab": {
     "base_uri": "https://localhost:8080/",
     "height": 881,
     "referenced_widgets": [
      "25610527c6f841e18a02fe360cb0c290",
      "6b6f9f86e5af44bdb61c0e82d7decabc",
      "c4fdcf5387fc425f8950a7de11ef940c",
      "82f0f9097570477cb69de988022efd93",
      "8abf0af5af024c478346afa7cd633f72",
      "42735f43991348b2ad77256a62fbd748",
      "b92da6d4a54d4811b472660a19080a8e",
      "045bb23820fd43dc86c922ab61148e21",
      "6e6a3b0933ef45b1a96242b1b3809abc",
      "e3f7715e7a6345cd902067914e892436",
      "78b3c1b82ebf47cd86ecfa6d97484d15",
      "f726586bfe36434ca1f7dca228cc358b",
      "31417fa7c6e94889a37dc4678a28e58f",
      "f1515adafa9b4640b3c7236573d58402",
      "19a038c555be43a3bdd3ef1f2c33a1a5",
      "5b0174a50f674e9981323c8d3f968a4d",
      "a271b93e0d6144beb50a60dc53d344f8",
      "75e37020e7a742719a84b81c75820585",
      "51b63916290744f8a5e7b7446abbef34",
      "c9f2e080084a4a5f8c577235e1e5f055",
      "8da6e316e32b43c38bf3d8e2a6ffbb2b",
      "e0ae7924edd0409aac7cadcc0af810c6",
      "6d25fe5cd82b4a27b09665b20e80d9a1",
      "81bfcf9c37fd4fcaa3d78f7871faf9db",
      "7ba61ba18c594cb684221b7d86c187c2",
      "0964ed18c5714fcb80ac426760ac3c40",
      "d30834e75af64275be5eef125727a511",
      "c3a378853fc542e0aad2d7134da0d6f0",
      "86d98bc4f3fc41509868ce1f76b194d5",
      "d7bcea77e23240e895706243f21abe6e",
      "5d818acaab5b4bbeafd145f189ba8f7a",
      "5eda060580054b3aa07d02cc98106756",
      "54a339d8d02f4574be07518b86a37192",
      "f7ace6d26aa24a42a485b6e12161c655",
      "e343a357ecfd420da2b156ac99812e12",
      "e9c7e900f52d43bf844cba6ae6a8f920",
      "fbc356d44dee4dcba8c4e5d9adccc6eb",
      "6d6f6583d77e414194c47b446836dead",
      "0dd32e3c1c33424b94d7c4bf7a8c7fec",
      "f2ce20c48de74548a9a5b8d4e326c2d5",
      "cbf9a99566484005a5b20d40466a12e5",
      "5d342bbefefb4bef814333f02cb0de60",
      "16dc69596de842659c8c0c7853fde77f",
      "b6704870755448beaea5b4c0d17cd11c",
      "9f7f328ddc7b48138f8cdfb0fd435460",
      "d2f02283931d46088ec7e73822b481c6",
      "0f7fd68a6077488eadadddb940831708",
      "e4b74b653508439ba2cae46b96b9a24b",
      "67b6c32fcff14af39f26006e103a5741",
      "5212e3ed5dda421fa81aceae367da2a5",
      "1bafbedf78844c42a3c3de2d38cd5b95"
     ]
    },
    "id": "GTzm7ScrtkeY",
    "outputId": "5ccef727-103c-4d98-cff8-dd38d5fd2474"
   },
   "outputs": [],
   "source": [
    "import pandas as pd\n",
    "import tensorflow as tf\n",
    "import joblib\n",
    "import ipywidgets as widgets\n",
    "from IPython.display import display, clear_output\n",
    "\n",
    "# Load saved model and scaler\n",
    "model = tf.keras.models.load_model('/content/heart_failure_prediction_model.h5')\n",
    "scaler = joblib.load('/content/heart_scaler.save')\n",
    "\n",
    "# Get feature list\n",
    "feature_columns = pd.read_csv('/content/heart.csv')\n",
    "encoded_columns = pd.get_dummies(feature_columns, drop_first=True).astype(int)\n",
    "x_columns = encoded_columns.drop('HeartDisease', axis=1).columns.tolist()\n",
    "\n",
    "# In-memory users DB\n",
    "users_db = {}\n",
    "\n",
    "def login_screen():\n",
    "    clear_output()\n",
    "    print(\"🔐 Heart Failure Predictor - Login\")\n",
    "\n",
    "    username = widgets.Text(description=\"Username:\")\n",
    "    password = widgets.Password(description=\"Password:\")\n",
    "    login_btn = widgets.Button(description=\"Login\", button_style='success')\n",
    "    register_btn = widgets.Button(description=\"Register\", button_style='info')\n",
    "\n",
    "    def do_login(b):\n",
    "        if users_db.get(username.value) == password.value:\n",
    "            print(\"✅ Login successful!\")\n",
    "            input_form_ui()\n",
    "        else:\n",
    "            print(\"❌ Invalid credentials.\")\n",
    "\n",
    "    def do_register(b):\n",
    "        if username.value in users_db:\n",
    "            print(\"⚠️ Username already exists.\")\n",
    "        else:\n",
    "            users_db[username.value] = password.value\n",
    "            print(\"✅ Registered. Please login.\")\n",
    "\n",
    "    login_btn.on_click(do_login)\n",
    "    register_btn.on_click(do_register)\n",
    "\n",
    "    display(username, password, login_btn, register_btn)\n",
    "\n",
    "def input_form_ui():\n",
    "    clear_output()\n",
    "    print(\"📥 Enter Patient Data for Prediction\")\n",
    "\n",
    "    # Mandatory inputs\n",
    "    age = widgets.IntText(description=\"Age*\", value=50)\n",
    "    bp = widgets.IntText(description=\"RestingBP*\", value=120)\n",
    "    chol = widgets.IntText(description=\"Cholesterol*\", value=200)\n",
    "    fbs = widgets.Dropdown(options=[0, 1], description=\"FastingBS*\")\n",
    "    hr = widgets.IntText(description=\"MaxHR*\", value=150)\n",
    "    oldpeak = widgets.FloatText(description=\"Oldpeak*\", value=1.0)\n",
    "\n",
    "    # Optional dummy variables\n",
    "    sex_m = widgets.Dropdown(description=\"Sex_M\", options=[0, 1])\n",
    "    cp_na = widgets.Dropdown(description=\"CP_Non-Anginal\", options=[0, 1])\n",
    "    ecg_normal = widgets.Dropdown(description=\"ECG_Normal\", options=[0, 1])\n",
    "    ex_angina = widgets.Dropdown(description=\"Exercise_Y\", options=[0, 1])\n",
    "    slope_up = widgets.Dropdown(description=\"ST_Slope_Up\", options=[0, 1])\n",
    "    slope_flat = widgets.Dropdown(description=\"ST_Slope_Flat\", options=[0, 1])\n",
    "\n",
    "    predict_btn = widgets.Button(description=\"🔍 Predict\", button_style='primary')\n",
    "\n",
    "    def make_prediction(b):\n",
    "        input_dict = {\n",
    "            'Age': age.value, 'RestingBP': bp.value, 'Cholesterol': chol.value,\n",
    "            'FastingBS': fbs.value, 'MaxHR': hr.value, 'Oldpeak': oldpeak.value,\n",
    "            'Sex_M': sex_m.value, 'ChestPainType_Non-anginal pain': cp_na.value,\n",
    "            'RestingECG_Normal': ecg_normal.value, 'ExerciseAngina_Y': ex_angina.value,\n",
    "            'ST_Slope_Up': slope_up.value,\n",
    "            'ST_Slope_Flat': slope_flat.value,\n",
    "            # Defaults for dummies not selected\n",
    "            'ChestPainType_Asymptomatic': 0,\n",
    "            'ChestPainType_Typical angina': 0,\n",
    "            'RestingECG_LVH': 0 ,\n",
    "            'RestingECG_ST': 0\n",
    "        }\n",
    "\n",
    "        # Ensure input matches trained features\n",
    "        input_df = pd.DataFrame([input_dict])\n",
    "        # Reindex with trained feature columns, filling missing values with 0\n",
    "        input_df = input_df.reindex(columns=x_columns, fill_value=0)\n",
    "\n",
    "        # Scale and predict\n",
    "        input_scaled = scaler.transform(input_df)\n",
    "        pred = model.predict(input_scaled)[0][0]\n",
    "\n",
    "        # Show result\n",
    "        result = \"💔 High Risk\" if pred > 0.5 else \"💓 Low Risk\"\n",
    "        print(f\"\\n🧠 Prediction: {pred:.2f} → {result}\")\n",
    "\n",
    "    predict_btn.on_click(make_prediction)\n",
    "\n",
    "    print(\"🟧 Mandatory Inputs:\")\n",
    "    display(age, bp, chol, fbs, hr, oldpeak)\n",
    "    print(\"🟨 Optional Inputs:\")\n",
    "    display(sex_m, cp_na, ecg_normal, ex_angina, slope_up, slope_flat, predict_btn)\n",
    "\n",
    "# 🚀 Launch App\n",
    "login_screen()"
   ]
  }
 ],
 "metadata": {
  "colab": {
   "provenance": []
  },
  "kernelspec": {
   "display_name": "Python 3",
   "name": "python3"
  },
  "language_info": {
   "name": "python"
  }
 },
 "nbformat": 4,
 "nbformat_minor": 0
}
